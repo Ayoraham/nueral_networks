{
 "cells": [
  {
   "cell_type": "code",
   "execution_count": null,
   "metadata": {},
   "outputs": [],
   "source": []
  },
  {
   "cell_type": "markdown",
   "metadata": {},
   "source": [
    "### Creating a function to read data from file and load into dataloader"
   ]
  },
  {
   "cell_type": "code",
   "execution_count": 24,
   "metadata": {},
   "outputs": [
    {
     "name": "stdout",
     "output_type": "stream",
     "text": [
      "Overwriting pokemon_modules/data_setup.py\n"
     ]
    }
   ],
   "source": [
    "%%writefile pokemon_modules/data_setup.py\n",
    "\"\"\"\n",
    "Conains functionaliy for creaing DataLoader for \n",
    "image classification data\n",
    "\"\"\"\n",
    "\n",
    "import os \n",
    "from torchvision import transforms, datasets\n",
    "from torch.utils.data import DataLoader\n",
    "\n",
    "def create_dataloaders(\n",
    "\ttrain_dir:str,\n",
    "\ttest_dir:str,\n",
    "\ttransformer:transforms.Compose,\n",
    "\tbatch_size:int,\n",
    "\t):\n",
    "\ttrain_data = datasets.ImageFolder(train_dir, transformer)\n",
    "\ttest_data = datasets.ImageFolder(test_dir, transformer)\n",
    "\tclasses = train_data.classes\n",
    "\ttrain_dataloader = DataLoader(train_data, batch_size, shuffle=True,pin_memory=True)\n",
    "\ttest_dataloader = DataLoader(test_data, batch_size,pin_memory=True)\n",
    "\n",
    "\treturn train_dataloader, test_dataloader, classes"
   ]
  },
  {
   "cell_type": "markdown",
   "metadata": {},
   "source": [
    "### Creating function for model building"
   ]
  },
  {
   "cell_type": "code",
   "execution_count": 53,
   "metadata": {},
   "outputs": [
    {
     "name": "stdout",
     "output_type": "stream",
     "text": [
      "Overwriting pokemon_modules/model_builder.py\n"
     ]
    }
   ],
   "source": [
    "%%writefile pokemon_modules/model_builder.py\n",
    "\"\"\"\n",
    "Contains python code to instantiate a pytorch nn model\n",
    "\"\"\"\n",
    "\n",
    "import torch\n",
    "from torch import nn\n",
    "\n",
    "class TinyVGG(nn.Module):\n",
    "\t\n",
    "\tdef __init__(self, input_shape:int,\n",
    "\t\thidden_units:int,\n",
    "\t\toutput_shape:int):\n",
    "\t\tsuper().__init__()\t\n",
    "\t\tself.conv_block_1 = nn.Sequential(\n",
    "\t\t\tnn.Conv2d(input_shape, hidden_units, 3, padding=1),\n",
    "\t\t\tnn.ReLU(),\n",
    "\t\t\tnn.Conv2d(hidden_units, hidden_units, 3, padding=1),\n",
    "\t\t\tnn.ReLU(),\n",
    "\t\t\tnn.MaxPool2d(2),\n",
    "\t\t\tnn.Dropout(p=0.5)\n",
    "\t\t\t)\n",
    "\t\tself.conv_block_2 = nn.Sequential(\n",
    "\t\t\tnn.Conv2d(hidden_units, hidden_units, 3, padding=1),\n",
    "\t\t\tnn.ReLU(),\n",
    "\t\t\tnn.Conv2d(hidden_units, hidden_units, 3, padding=1),\n",
    "\t\t\tnn.ReLU(),\n",
    "\t\t\tnn.MaxPool2d(2),\n",
    "\t\t\tnn.Dropout(p=0.5)\n",
    "\n",
    "\t\t\t)\n",
    "\t\tself.classifier = nn.Sequential(\n",
    "\t\t\tnn.Flatten(),\n",
    "\t\t\tnn.Linear(in_features=hidden_units*16*16,out_features=output_shape)\n",
    "\t\t)\n",
    "\t\n",
    "\tdef forward(self, x):\n",
    "\t\treturn self.classifier(self.conv_block_2(self.conv_block_1(x)))\n"
   ]
  },
  {
   "cell_type": "markdown",
   "metadata": {},
   "source": [
    "### Creating model for traning and testing\n"
   ]
  },
  {
   "cell_type": "code",
   "execution_count": 4,
   "metadata": {},
   "outputs": [],
   "source": [
    "from pokemon_modules import model_builder\n",
    "model = model_builder.TinyVGG(3,10,1)\n",
    "from torchvision import transforms"
   ]
  },
  {
   "cell_type": "code",
   "execution_count": 5,
   "metadata": {},
   "outputs": [],
   "source": [
    "model_transformer = transforms.Compose([\n",
    "    transforms.Resize((64,64)),\n",
    "    transforms.ToTensor()\n",
    "])"
   ]
  },
  {
   "cell_type": "code",
   "execution_count": 6,
   "metadata": {},
   "outputs": [],
   "source": [
    "from pokemon_modules import data_setup\n",
    "train_dataloader, test_dataloader, class_names = data_setup.create_dataloaders(train_dir=train_dir, test_dir=test_dir, transformer=model_transformer, num_batches=16)\n",
    "img,label=next(iter(train_dataloader))\n"
   ]
  },
  {
   "cell_type": "code",
   "execution_count": 7,
   "metadata": {},
   "outputs": [
    {
     "data": {
      "text/plain": [
       "torch.Size([16, 3, 64, 64])"
      ]
     },
     "execution_count": 7,
     "metadata": {},
     "output_type": "execute_result"
    }
   ],
   "source": [
    "\n",
    "img.shape"
   ]
  },
  {
   "cell_type": "code",
   "execution_count": null,
   "metadata": {},
   "outputs": [],
   "source": [
    "import torch\n",
    "model.eval()\n",
    "with torch.inference_mode():\n",
    "    pred = model(img)\n",
    "    "
   ]
  },
  {
   "cell_type": "code",
   "execution_count": 10,
   "metadata": {},
   "outputs": [
    {
     "data": {
      "text/plain": [
       "tensor(15)"
      ]
     },
     "execution_count": 10,
     "metadata": {},
     "output_type": "execute_result"
    }
   ],
   "source": [
    "pred.argmax()"
   ]
  },
  {
   "cell_type": "code",
   "execution_count": 42,
   "metadata": {},
   "outputs": [
    {
     "name": "stdout",
     "output_type": "stream",
     "text": [
      "Overwriting pokemon_modules/engine.py\n"
     ]
    }
   ],
   "source": [
    "%%writefile pokemon_modules/engine.py\n",
    "\n",
    "import torch\n",
    "from typing import Dict, List, Tuple\n",
    "from tqdm.auto import tqdm\n",
    "def train_step(model:torch.nn.Module,\n",
    "\t\t\t   dataloader:torch.utils.data.DataLoader,\n",
    "\t\t\t   optim:torch.optim.Optimizer,\n",
    "\t\t\t   loss_fn:torch.nn.Module,):\n",
    "\t\"\"\"Trains a PyTorch model for a single epoch.\n",
    "\n",
    "\tTurns a target PyTorch model to training mode and then\n",
    "\truns through all of the required training steps (forward\n",
    "\tpass, loss calculation, optimizer step).\n",
    "\n",
    "\tArgs:\n",
    "\t\tmodel: A PyTorch model to be trained.\n",
    "\t\tdataloader: A DataLoader instance for the model to be trained on.\n",
    "\t\tloss_fn: A PyTorch loss function to minimize.\n",
    "\t\toptimizer: A PyTorch optimizer to help minimize the loss function.\n",
    "\t\tdevice: A target device to compute on (e.g. \"cuda\" or \"cpu\").\n",
    "\n",
    "\tReturns:\n",
    "\t\tA tuple of training loss and training accuracy metrics.\n",
    "\t\tIn the form (train_loss, train_accuracy). For example:\n",
    "\n",
    "\t\t(0.1112, 0.8743)\n",
    "\t\"\"\"\n",
    "\ttrain_loss, train_acc=0,0\n",
    "\tmodel.train()\n",
    "\tfor X,y in dataloader:\n",
    "\t\tpred=model(X)\n",
    "\t\tloss=loss_fn(pred, y)\n",
    "\t\ttrain_loss+=loss\n",
    "\t\tpred_class = torch.argmax(torch.softmax(pred, dim=1), dim=1)\n",
    "\t\ttrain_acc += (pred_class == y).sum().item()/len(pred)\n",
    "\t\toptim.zero_grad()\n",
    "\t\tloss.backward()\n",
    "\t\toptim.step()\n",
    "\ttrain_loss = train_loss /len(dataloader)\n",
    "\ttrain_acc = train_acc / len(dataloader)\n",
    "\treturn train_loss, train_acc\n",
    "\n",
    "def test_step(model: torch.nn.Module,\n",
    "              dataloader: torch.utils.data.DataLoader,\n",
    "              loss_fn: torch.nn.Module) -> Tuple[float, float]:\n",
    "  \"\"\"Tests a PyTorch model for a single epoch.\n",
    "\n",
    "  Turns a target PyTorch model to \"eval\" mode and then performs\n",
    "  a forward pass on a testing dataset.\n",
    "\n",
    "  Args:\n",
    "    model: A PyTorch model to be tested.\n",
    "    dataloader: A DataLoader instance for the model to be tested on.\n",
    "    loss_fn: A PyTorch loss function to calculate loss on the test data.\n",
    "    device: A target device to compute on (e.g. \"cuda\" or \"cpu\").\n",
    "\n",
    "  Returns:\n",
    "    A tuple of testing loss and testing accuracy metrics.\n",
    "    In the form (test_loss, test_accuracy). For example:\n",
    "\n",
    "    (0.0223, 0.8985)\n",
    "  \"\"\"\n",
    "  model.eval()\n",
    "  test_loss, test_acc = 0, 0\n",
    "  with torch.inference_mode():\n",
    "      for X, y in dataloader:\n",
    "          test_pred_logits = model(X)\n",
    "          loss = loss_fn(test_pred_logits, y)\n",
    "          test_loss += loss.item()\n",
    "          test_pred_labels = test_pred_logits.argmax(dim=1)\n",
    "          test_acc += ((test_pred_labels == y).sum().item()/len(test_pred_labels))\n",
    "\n",
    "  test_loss = test_loss / len(dataloader)\n",
    "  test_acc = test_acc / len(dataloader)\n",
    "  return test_loss, test_acc\n",
    "\n",
    "def train(model: torch.nn.Module,\n",
    "          train_dataloader: torch.utils.data.DataLoader,\n",
    "          test_dataloader: torch.utils.data.DataLoader,\n",
    "          optim: torch.optim.Optimizer,\n",
    "          loss_fn: torch.nn.Module,\n",
    "          epochs: int) -> Dict[str, List[float]]:\n",
    "  \"\"\"Trains and tests a PyTorch model.\n",
    "\n",
    "  Passes a target PyTorch models through train_step() and test_step()\n",
    "  functions for a number of epochs, training and testing the model\n",
    "  in the same epoch loop.\n",
    "\n",
    "  Calculates, prints and stores evaluation metrics throughout.\n",
    "\n",
    "  Args:\n",
    "    model: A PyTorch model to be trained and tested.\n",
    "    train_dataloader: A DataLoader instance for the model to be trained on.\n",
    "    test_dataloader: A DataLoader instance for the model to be tested on.\n",
    "    optimizer: A PyTorch optimizer to help minimize the loss function.\n",
    "    loss_fn: A PyTorch loss function to calculate loss on both datasets.\n",
    "    epochs: An integer indicating how many epochs to train for.\n",
    "    device: A target device to compute on (e.g. \"cuda\" or \"cpu\").\n",
    "\n",
    "  Returns:\n",
    "    A dictionary of training and testing loss as well as training and\n",
    "    testing accuracy metrics. Each metric has a value in a list for\n",
    "    each epoch.\n",
    "    In the form: {train_loss: [...],\n",
    "                  train_acc: [...],\n",
    "                  test_loss: [...],\n",
    "                  test_acc: [...]}\n",
    "    For example if training for epochs=2:\n",
    "                 {train_loss: [2.0616, 1.0537],\n",
    "                  train_acc: [0.3945, 0.3945],\n",
    "                  test_loss: [1.2641, 1.5706],\n",
    "                  test_acc: [0.3400, 0.2973]}\n",
    "  \"\"\"\n",
    "  # Create empty results dictionary\n",
    "  results = {\"train_loss\": [],\n",
    "      \"train_acc\": [],\n",
    "      \"test_loss\": [],\n",
    "      \"test_acc\": []\n",
    "  }\n",
    "\n",
    "  for epoch in tqdm(range(epochs)):\n",
    "      train_loss, train_acc = train_step(model=model,\n",
    "                                          dataloader=train_dataloader,\n",
    "                                          loss_fn=loss_fn,\n",
    "                                          optim=optim)\n",
    "      test_loss, test_acc = test_step(model=model,\n",
    "          dataloader=test_dataloader,\n",
    "          loss_fn=loss_fn)\n",
    "\n",
    "      print(\n",
    "          f\"Epoch: {epoch+1} | \"\n",
    "          f\"train_loss: {train_loss:.4f} | \"\n",
    "          f\"train_acc: {train_acc:.4f} | \"\n",
    "          f\"test_loss: {test_loss:.4f} | \"\n",
    "          f\"test_acc: {test_acc:.4f}\"\n",
    "      )\n",
    "\n",
    "      results[\"train_loss\"].append(train_loss)\n",
    "      results[\"train_acc\"].append(train_acc)\n",
    "      results[\"test_loss\"].append(test_loss)\n",
    "      results[\"test_acc\"].append(test_acc)\n",
    "\n",
    "  return results"
   ]
  },
  {
   "cell_type": "code",
   "execution_count": 15,
   "metadata": {},
   "outputs": [
    {
     "name": "stdout",
     "output_type": "stream",
     "text": [
      "Writing pokemon_modules/utils.py\n"
     ]
    }
   ],
   "source": [
    "%%writefile pokemon_modules/utils.py\n",
    "\"\"\"\n",
    "File containing various utility functions for pytorch model training\n",
    "\"\"\"\n",
    "import torch\n",
    "from pathlib import Path\n",
    "\n",
    "def save_model(model: torch.nn.Module,\n",
    "               target_dir: str,\n",
    "               model_name: str):\n",
    "  \"\"\"Saves a PyTorch model to a target directory.\n",
    "\n",
    "  Args:\n",
    "    model: A target PyTorch model to save.\n",
    "    target_dir: A directory for saving the model to.\n",
    "    model_name: A filename for the saved model. Should include\n",
    "      either \".pth\" or \".pt\" as the file extension.\n",
    "\n",
    "  Example usage:\n",
    "    save_model(model=model_0,\n",
    "               target_dir=\"models\",\n",
    "               model_name=\"05_going_modular_tingvgg_model.pth\")\n",
    "  \"\"\"\n",
    "  # Create target directory\n",
    "  target_dir_path = Path(target_dir)\n",
    "  target_dir_path.mkdir(parents=True,\n",
    "                        exist_ok=True)\n",
    "\n",
    "  # Create model save path\n",
    "  assert model_name.endswith(\".pth\") or model_name.endswith(\".pt\"), \"model_name should end with '.pt' or '.pth'\"\n",
    "  model_save_path = target_dir_path / model_name\n",
    "\n",
    "  # Save the model state_dict()\n",
    "  print(f\"[INFO] Saving model to: {model_save_path}\")\n",
    "  torch.save(obj=model.state_dict(),\n",
    "             f=model_save_path)"
   ]
  },
  {
   "cell_type": "code",
   "execution_count": 54,
   "metadata": {},
   "outputs": [
    {
     "name": "stdout",
     "output_type": "stream",
     "text": [
      "Overwriting pokemon_modules/train.py\n"
     ]
    }
   ],
   "source": [
    "%%writefile pokemon_modules/train.py\n",
    "\"\"\"\n",
    "Trains a Pytorch image classification model using device-agnostic code\n",
    "\"\"\"\n",
    "\n",
    "import os\n",
    "import torch\n",
    "from torchvision import transforms\n",
    "import data_setup, engine, model_builder, utils\n",
    "from timeit import default_timer as timer\n",
    "from pathlib import Path\n",
    "data_dir = Path(\"data\")\n",
    "train_dir = data_dir/\"train\"\n",
    "test_dir = data_dir/\"test\"\n",
    "\n",
    "NUM_EPOCHS = 7\n",
    "BATHC_SIZE = 16\n",
    "HIDDEN_UNITS =  10\n",
    "LEARNING_RATE = 0.001\n",
    "\n",
    "\n",
    "data_transform = transforms.Compose([\n",
    "    transforms.Resize((64,64)),\n",
    "    transforms.ToTensor()\n",
    "])\n",
    "\n",
    "train_dataloader, test_dataloader, class_names = data_setup.create_dataloaders(train_dir=train_dir,\n",
    "                                                                               test_dir=test_dir,\n",
    "                                                                               transformer=data_transform,\n",
    "                                                                               batch_size=BATHC_SIZE)\n",
    "\n",
    "model = model_builder.TinyVGG(input_shape=3,\n",
    "                              hidden_units=HIDDEN_UNITS,\n",
    "                              output_shape=len(class_names))\n",
    "\n",
    "loss_fn = torch.nn.CrossEntropyLoss()\n",
    "optim = torch.optim.Adam(model.parameters(),\n",
    "                             lr=LEARNING_RATE)\n",
    "\n",
    "\n",
    "start_time = timer()\n",
    "engine.train(model=model,\n",
    "             train_dataloader=train_dataloader,\n",
    "             test_dataloader=test_dataloader,\n",
    "             loss_fn=loss_fn,\n",
    "             optim=optim,\n",
    "             epochs=NUM_EPOCHS)\n",
    "\n",
    "end_time = timer()\n",
    "print(f\"[INFO] Total training time: {end_time-start_time:.3f} seconds\")\n",
    "\n",
    "utils.save_model(model=model,\n",
    "                 target_dir=\"models\",\n",
    "                 model_name=\"pokemon_model.pth\")"
   ]
  },
  {
   "cell_type": "code",
   "execution_count": 55,
   "metadata": {},
   "outputs": [
    {
     "name": "stdout",
     "output_type": "stream",
     "text": [
      "Epoch: 1 | train_loss: 6.4578 | train_acc: 0.0268 | test_loss: 5.9659 | test_acc: 0.1250\n",
      "Epoch: 2 | train_loss: 4.4590 | train_acc: 0.2481 | test_loss: 3.8429 | test_acc: 0.3882\n",
      "Epoch: 3 | train_loss: 2.8168 | train_acc: 0.4835 | test_loss: 2.9185 | test_acc: 0.5484\n",
      "Epoch: 4 | train_loss: 2.0086 | train_acc: 0.6154 | test_loss: 2.4629 | test_acc: 0.6328\n",
      "Epoch: 5 | train_loss: 1.5195 | train_acc: 0.7020 | test_loss: 2.1082 | test_acc: 0.6900\n",
      "Epoch: 6 | train_loss: 1.1902 | train_acc: 0.7579 | test_loss: 1.8849 | test_acc: 0.7362\n",
      "Epoch: 7 | train_loss: 0.9715 | train_acc: 0.7940 | test_loss: 1.7443 | test_acc: 0.7609\n",
      "[INFO] Total training time: 3482.950 seconds\n",
      "[INFO] Saving model to: models\\pokemon_model.pth\n"
     ]
    },
    {
     "name": "stderr",
     "output_type": "stream",
     "text": [
      "\n",
      "  0%|          | 0/7 [00:00<?, ?it/s]\n",
      " 14%|█▍        | 1/7 [08:39<51:58, 519.68s/it]\n",
      " 29%|██▊       | 2/7 [15:35<38:11, 458.34s/it]\n",
      " 43%|████▎     | 3/7 [22:32<29:19, 439.76s/it]\n",
      " 57%|█████▋    | 4/7 [29:20<21:21, 427.25s/it]\n",
      " 71%|███████▏  | 5/7 [39:10<16:11, 485.84s/it]\n",
      " 86%|████████▌ | 6/7 [49:43<08:55, 535.97s/it]\n",
      "100%|██████████| 7/7 [58:02<00:00, 523.77s/it]\n",
      "100%|██████████| 7/7 [58:02<00:00, 497.49s/it]\n"
     ]
    }
   ],
   "source": [
    "!python pokemon_modules/train.py"
   ]
  },
  {
   "cell_type": "code",
   "execution_count": null,
   "metadata": {},
   "outputs": [],
   "source": []
  }
 ],
 "metadata": {
  "kernelspec": {
   "display_name": "Python 3",
   "language": "python",
   "name": "python3"
  },
  "language_info": {
   "codemirror_mode": {
    "name": "ipython",
    "version": 3
   },
   "file_extension": ".py",
   "mimetype": "text/x-python",
   "name": "python",
   "nbconvert_exporter": "python",
   "pygments_lexer": "ipython3",
   "version": "3.11.9"
  }
 },
 "nbformat": 4,
 "nbformat_minor": 2
}
