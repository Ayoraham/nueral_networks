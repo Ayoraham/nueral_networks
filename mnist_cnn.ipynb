{
 "cells": [
  {
   "cell_type": "markdown",
   "metadata": {},
   "source": [
    "I'll be building a cnn for multiclass classification using the `TINYVGG` architechture"
   ]
  },
  {
   "cell_type": "code",
   "execution_count": 121,
   "metadata": {},
   "outputs": [],
   "source": [
    "# Importing dependencies\n",
    "import torch\n",
    "from torch import nn\n",
    "from torchvision import datasets\n",
    "import matplotlib.pyplot as plt\n",
    "from torchvision.transforms import ToTensor\n",
    "from torch.utils.data import DataLoader\n",
    "from torchmetrics import Accuracy\n",
    "from tqdm.auto import tqdm\n",
    "from timeit import default_timer as timer"
   ]
  },
  {
   "cell_type": "code",
   "execution_count": null,
   "metadata": {},
   "outputs": [],
   "source": [
    "# Getting the data\n",
    "train_data = datasets.MNIST(root=\"data\", train=True, transform=ToTensor(), target_transform=None)\n",
    "test_data = datasets.MNIST(root=\"data\", train=False, transform=ToTensor())"
   ]
  },
  {
   "cell_type": "code",
   "execution_count": 3,
   "metadata": {},
   "outputs": [
    {
     "name": "stdout",
     "output_type": "stream",
     "text": [
      "['0 - zero', '1 - one', '2 - two', '3 - three', '4 - four', '5 - five', '6 - six', '7 - seven', '8 - eight', '9 - nine']\n"
     ]
    },
    {
     "data": {
      "image/png": "[encoded data removed]",
      "text/plain": [
       "<Figure size 640x480 with 1 Axes>"
      ]
     },
     "metadata": {},
     "output_type": "display_data"
    }
   ],
   "source": [
    "# Lets take a look at the data\n",
    "print(test_data.classes) # we got 10 classes\n",
    "class_names = test_data.classes\n",
    "X,y = train_data[0]\n",
    "plt.imshow(X.squeeze(), cmap=\"gray\")\n",
    "plt.title(class_names[y]);\n",
    "plt.axis(False)\n",
    "acc_fn = Accuracy(task=\"multiclass\", num_classes= len(class_names))"
   ]
  },
  {
   "cell_type": "code",
   "execution_count": 4,
   "metadata": {},
   "outputs": [],
   "source": [
    "# Load the data into a dataloader for bacthing\n",
    "BATCH_SIZE =32\n",
    "train_dataloader = DataLoader(train_data,BATCH_SIZE, shuffle=True)\n",
    "test_dataloader = DataLoader(test_data, BATCH_SIZE, shuffle=False)"
   ]
  },
  {
   "cell_type": "code",
   "execution_count": 5,
   "metadata": {},
   "outputs": [
    {
     "data": {
      "text/plain": [
       "1875"
      ]
     },
     "execution_count": 5,
     "metadata": {},
     "output_type": "execute_result"
    }
   ],
   "source": [
    "len(train_dataloader)"
   ]
  },
  {
   "cell_type": "code",
   "execution_count": 160,
   "metadata": {},
   "outputs": [],
   "source": [
    "# Make the training and testing functions for convenience\n",
    "def train_loop(model:torch.nn.Module,\n",
    "               dataloader:torch.utils.data.DataLoader,\n",
    "               loss_fn:torch.nn.Module,\n",
    "               optim:torch.optim.Optimizer,\n",
    "               acc_fn):\n",
    "    model.train()\n",
    "    train_loss, train_acc = 0,0\n",
    "    for batch, (X,y) in enumerate(dataloader):\n",
    "        pred = model(X) # model outputs logits ggff\n",
    "        loss = loss_fn(pred, y) # cross entropy makes use of the logits so we dont have to convert to prediction probabilities\n",
    "        train_loss += loss\n",
    "        train_acc += acc_fn(pred.argmax(dim=1), y)\n",
    "        optim.zero_grad()\n",
    "        loss.backward()\n",
    "        optim.step()\n",
    "    \n",
    "    # Calculate loss and accuracy per epoch\n",
    "    train_loss /= len(dataloader)\n",
    "    train_acc /= len(dataloader)\n",
    "    print(f\"Train loss: {train_loss:.5f} | Train accuracy: {train_acc*100:.2f} \")\n",
    "\n",
    "def test_loop(model:torch.nn.Module,\n",
    "               dataloader:torch.utils.data.DataLoader,\n",
    "               loss_fn:torch.nn.Module,\n",
    "               acc_fn):\n",
    "    test_loss , test_acc =0,0\n",
    "    model.eval()\n",
    "    with torch.inference_mode():\n",
    "        for X,y in dataloader:\n",
    "            pred = model(X)\n",
    "            test_loss += loss_fn(pred, y)\n",
    "            test_acc += acc_fn(pred.argmax(dim=1), y)\n",
    "        test_loss /= len(dataloader)\n",
    "        test_acc /= len(dataloader)\n",
    "        print(f\"Test loss: {test_loss:.5f} | Test accuracy: {test_acc*100:.2f}\")\n",
    "\n",
    "def get_model_results(model:torch.nn.Module,\n",
    "               dataloader:torch.utils.data.DataLoader,\n",
    "               loss_fn:torch.nn.Module,\n",
    "               acc_fn):\n",
    "    test_loss , test_acc =0,0\n",
    "    model.eval()\n",
    "    pred_prob=[]\n",
    "    with torch.inference_mode():\n",
    "        for X,y in dataloader:\n",
    "            pred = model(X)\n",
    "            test_loss += loss_fn(pred, y)\n",
    "            test_acc += acc_fn(pred.argmax(dim=1), y)\n",
    "            pred_prob.append(pred.argmax(dim=1))\n",
    "        test_loss /= len(dataloader)\n",
    "        test_acc /= len(dataloader)\n",
    "        print(f\"Test loss: {test_loss:.5f} | Test accuracy: {test_acc*100:.2f}\")\n",
    "    return pred_prob\n"
   ]
  },
  {
   "cell_type": "code",
   "execution_count": 124,
   "metadata": {},
   "outputs": [],
   "source": [
    "#Currently using the TINYVGG cnn architechture\n",
    "class MNISTMODEL(nn.Module):\n",
    "    def __init__(self, input_shape, hidden_units, output_shape):\n",
    "        super().__init__()\n",
    "        self.conv_block_1 = nn.Sequential(\n",
    "            nn.Conv2d(in_channels=input_shape,\n",
    "                      out_channels=hidden_units,\n",
    "                      kernel_size=2,\n",
    "                      stride=1,\n",
    "                      padding=1),\n",
    "            nn.ReLU(),\n",
    "            nn.Conv2d(hidden_units, hidden_units, 2, padding=1),\n",
    "            nn.ReLU(),\n",
    "            nn.MaxPool2d(2)\n",
    "        )\n",
    "        self.conv_block_2 = nn.Sequential(\n",
    "            nn.Conv2d(hidden_units,hidden_units,2,padding=1),\n",
    "            nn.ReLU(),\n",
    "            nn.Conv2d(hidden_units, hidden_units,2,padding=1),\n",
    "            nn.ReLU(),\n",
    "            nn.MaxPool2d(2)\n",
    "        )\n",
    "        self.classifier = nn.Sequential(\n",
    "            nn.Flatten(),\n",
    "            nn.Linear(in_features=hidden_units*8*8, out_features=output_shape)\n",
    "        )\n",
    "    def forward(self, x):\n",
    "        x= self.conv_block_1(x)\n",
    "        #print(x.shape)\n",
    "        x= self.conv_block_2(x)\n",
    "        #print(x.shape)\n",
    "        x = self.classifier(x)\n",
    "        #print(x.shape)\n",
    "        return x\n",
    "\n",
    "model = MNISTMODEL(input_shape=1, hidden_units=16, output_shape=len(class_names))"
   ]
  },
  {
   "cell_type": "code",
   "execution_count": 125,
   "metadata": {},
   "outputs": [],
   "source": [
    "loss_fn = nn.CrossEntropyLoss()\n",
    "optim = torch.optim.SGD(params=model.parameters(), lr=0.1)"
   ]
  },
  {
   "cell_type": "code",
   "execution_count": 126,
   "metadata": {},
   "outputs": [
    {
     "data": {
      "text/plain": [
       "(torch.Size([32, 1, 28, 28]), torch.Size([32]))"
      ]
     },
     "execution_count": 126,
     "metadata": {},
     "output_type": "execute_result"
    }
   ],
   "source": [
    "# I'm going get get a smaller tensor to test out the model\n",
    "X,y = next(iter(train_dataloader))\n",
    "X.shape, y.shape"
   ]
  },
  {
   "cell_type": "code",
   "execution_count": 127,
   "metadata": {},
   "outputs": [
    {
     "data": {
      "text/plain": [
       "tensor([[-0.0265, -0.0245,  0.0217, -0.0134,  0.0128, -0.0445, -0.0192, -0.0178,\n",
       "         -0.0036, -0.0192],\n",
       "        [-0.0273, -0.0257,  0.0182, -0.0079,  0.0218, -0.0449, -0.0165, -0.0175,\n",
       "          0.0028, -0.0174],\n",
       "        [-0.0207, -0.0273,  0.0136, -0.0095,  0.0170, -0.0413, -0.0133, -0.0180,\n",
       "          0.0052, -0.0090],\n",
       "        [-0.0211, -0.0282,  0.0149, -0.0070,  0.0126, -0.0387, -0.0135, -0.0224,\n",
       "          0.0034, -0.0067],\n",
       "        [-0.0221, -0.0355,  0.0135, -0.0007,  0.0126, -0.0439, -0.0135, -0.0180,\n",
       "          0.0097, -0.0110],\n",
       "        [-0.0268, -0.0247,  0.0099, -0.0138,  0.0124, -0.0417, -0.0170, -0.0125,\n",
       "          0.0114, -0.0175],\n",
       "        [-0.0242, -0.0197,  0.0159, -0.0102,  0.0163, -0.0478, -0.0117, -0.0203,\n",
       "          0.0068, -0.0157],\n",
       "        [-0.0338, -0.0261,  0.0106, -0.0087,  0.0169, -0.0429, -0.0165, -0.0187,\n",
       "          0.0076, -0.0131],\n",
       "        [-0.0229, -0.0304,  0.0148, -0.0029,  0.0160, -0.0405, -0.0113, -0.0178,\n",
       "          0.0062, -0.0099],\n",
       "        [-0.0316, -0.0270,  0.0157, -0.0010,  0.0181, -0.0401, -0.0153, -0.0173,\n",
       "          0.0027, -0.0165],\n",
       "        [-0.0252, -0.0335,  0.0161, -0.0035,  0.0094, -0.0425, -0.0130, -0.0163,\n",
       "          0.0067, -0.0068],\n",
       "        [-0.0179, -0.0255,  0.0136, -0.0085,  0.0173, -0.0362, -0.0139, -0.0215,\n",
       "          0.0069, -0.0104],\n",
       "        [-0.0280, -0.0283,  0.0155, -0.0106,  0.0109, -0.0420, -0.0083, -0.0208,\n",
       "          0.0073, -0.0139],\n",
       "        [-0.0272, -0.0259,  0.0061, -0.0093,  0.0165, -0.0433, -0.0178, -0.0173,\n",
       "          0.0066, -0.0173],\n",
       "        [-0.0272, -0.0256,  0.0200, -0.0134,  0.0167, -0.0410, -0.0120, -0.0183,\n",
       "          0.0010, -0.0161],\n",
       "        [-0.0273, -0.0273,  0.0190, -0.0083,  0.0121, -0.0323, -0.0085, -0.0177,\n",
       "          0.0068, -0.0089],\n",
       "        [-0.0294, -0.0236,  0.0199, -0.0039,  0.0174, -0.0451, -0.0126, -0.0192,\n",
       "          0.0085, -0.0123],\n",
       "        [-0.0249, -0.0306,  0.0139, -0.0128,  0.0134, -0.0390, -0.0099, -0.0165,\n",
       "          0.0076, -0.0141],\n",
       "        [-0.0208, -0.0253,  0.0167, -0.0082,  0.0198, -0.0411, -0.0087, -0.0217,\n",
       "          0.0037, -0.0071],\n",
       "        [-0.0293, -0.0259,  0.0132, -0.0064,  0.0190, -0.0468, -0.0108, -0.0170,\n",
       "          0.0041, -0.0150],\n",
       "        [-0.0270, -0.0256,  0.0191, -0.0098,  0.0140, -0.0443, -0.0169, -0.0187,\n",
       "          0.0018, -0.0135],\n",
       "        [-0.0225, -0.0200,  0.0141, -0.0081,  0.0225, -0.0516, -0.0135, -0.0148,\n",
       "          0.0138, -0.0156],\n",
       "        [-0.0253, -0.0347,  0.0059, -0.0071,  0.0103, -0.0388, -0.0182, -0.0191,\n",
       "          0.0041, -0.0125],\n",
       "        [-0.0294, -0.0259,  0.0200, -0.0107,  0.0124, -0.0435, -0.0095, -0.0175,\n",
       "          0.0086, -0.0162],\n",
       "        [-0.0184, -0.0284,  0.0218, -0.0068,  0.0135, -0.0390, -0.0129, -0.0188,\n",
       "          0.0011, -0.0120],\n",
       "        [-0.0240, -0.0292,  0.0129, -0.0132,  0.0122, -0.0414, -0.0124, -0.0236,\n",
       "          0.0008, -0.0086],\n",
       "        [-0.0261, -0.0290,  0.0155, -0.0077,  0.0117, -0.0380, -0.0073, -0.0188,\n",
       "          0.0063, -0.0030],\n",
       "        [-0.0327, -0.0295,  0.0164, -0.0084,  0.0215, -0.0446, -0.0170, -0.0250,\n",
       "          0.0120, -0.0110],\n",
       "        [-0.0279, -0.0231,  0.0114, -0.0041,  0.0200, -0.0456, -0.0217, -0.0174,\n",
       "          0.0015, -0.0169],\n",
       "        [-0.0257, -0.0289,  0.0250, -0.0143,  0.0124, -0.0461, -0.0071, -0.0223,\n",
       "          0.0073, -0.0169],\n",
       "        [-0.0284, -0.0272,  0.0186, -0.0094,  0.0091, -0.0442, -0.0114, -0.0176,\n",
       "          0.0089, -0.0154],\n",
       "        [-0.0315, -0.0258,  0.0174, -0.0158,  0.0108, -0.0475, -0.0111, -0.0219,\n",
       "          0.0102, -0.0164]], grad_fn=<AddmmBackward0>)"
      ]
     },
     "execution_count": 127,
     "metadata": {},
     "output_type": "execute_result"
    }
   ],
   "source": [
    "# Passing it through the model\n",
    "model(X)\n",
    "# Encountered some errors before but i have modified the class to get the correct input shape"
   ]
  },
  {
   "cell_type": "code",
   "execution_count": 128,
   "metadata": {},
   "outputs": [],
   "source": [
    "# I want to make a function to calculate the training time of the model\n",
    "def train_time(start:float, end:float, device=\"cpu\"):\n",
    "    total_time = end - start\n",
    "    print(f\"Training time on {device}: {total_time}\")\n",
    "    return total_time"
   ]
  },
  {
   "cell_type": "code",
   "execution_count": 129,
   "metadata": {},
   "outputs": [
    {
     "data": {
      "application/vnd.jupyter.widget-view+json": {
       "model_id": "af198d2a9fc24ada98147af7b0fa6643",
       "version_major": 2,
       "version_minor": 0
      },
      "text/plain": [
       "  0%|          | 0/3 [00:00<?, ?it/s]"
      ]
     },
     "metadata": {},
     "output_type": "display_data"
    },
    {
     "name": "stdout",
     "output_type": "stream",
     "text": [
      "Epoch: 0\n",
      "-----------\n",
      "Train loss: 0.25757 | Train accuracy: 91.71 \n",
      "Test loss: 0.06276 | Test accuracy: 98.02\n",
      "Epoch: 1\n",
      "-----------\n",
      "Train loss: 0.07116 | Train accuracy: 97.82 \n",
      "Test loss: 0.05255 | Test accuracy: 98.44\n",
      "Epoch: 2\n",
      "-----------\n",
      "Train loss: 0.05454 | Train accuracy: 98.27 \n",
      "Test loss: 0.05770 | Test accuracy: 98.09\n",
      "Training time on cpu: 343.51750719999836\n"
     ]
    },
    {
     "data": {
      "text/plain": [
       "343.51750719999836"
      ]
     },
     "execution_count": 129,
     "metadata": {},
     "output_type": "execute_result"
    }
   ],
   "source": [
    "# Train the model\n",
    "epochs = 3\n",
    "start = timer()\n",
    "for epoch in tqdm(range(epochs)):\n",
    "    print(f\"Epoch: {epoch}\\n-----------\")\n",
    "    train_loop(model=model, dataloader=train_dataloader, loss_fn=loss_fn, optim=optim,acc_fn=acc_fn)\n",
    "    test_loop(model=model, dataloader=test_dataloader, loss_fn=loss_fn, acc_fn=acc_fn)\n",
    "end = timer()\n",
    "train_time(start=start, end=end)\n"
   ]
  },
  {
   "cell_type": "code",
   "execution_count": 206,
   "metadata": {},
   "outputs": [
    {
     "name": "stdout",
     "output_type": "stream",
     "text": [
      "Test loss: 0.05770 | Test accuracy: 98.09\n"
     ]
    }
   ],
   "source": [
    "preds = get_model_results(model=model, dataloader=test_dataloader, loss_fn=loss_fn,acc_fn=acc_fn)\n",
    "\n",
    "pred = []\n",
    "for ten in preds:\n",
    "    for tenr in ten:\n",
    "        pred.append(tenr.item())\n",
    "\n",
    "label = []\n",
    "feature = []\n",
    "for X,y in list(test_data):\n",
    "    label.append(y)\n",
    "    feature.append(X)"
   ]
  },
  {
   "cell_type": "code",
   "execution_count": 207,
   "metadata": {},
   "outputs": [],
   "source": [
    "feature = torch.stack(feature)"
   ]
  },
  {
   "cell_type": "code",
   "execution_count": 208,
   "metadata": {},
   "outputs": [
    {
     "data": {
      "image/png": "[encoded data removed]",
      "text/plain": [
       "<Figure size 900x900 with 16 Axes>"
      ]
     },
     "metadata": {},
     "output_type": "display_data"
    }
   ],
   "source": [
    "# I'm going to make a plt figure showing the predictions\n",
    "NROWS = 4\n",
    "NCOLS = 4\n",
    "fig = plt.figure(figsize=(9,9))\n",
    "for num in range(1, NROWS*NCOLS+1):\n",
    "    no = random.randint(0, len(feature))\n",
    "    img = feature[no].squeeze()\n",
    "    true_label = label[no]\n",
    "    pred_label = pred[no]\n",
    "    fig.add_subplot(NROWS,NCOLS,num)\n",
    "    plt.imshow(img, cmap=\"gray\")\n",
    "    plt.axis(False)\n",
    "    title_text = f\"Pred label: {pred_label} | True label: {true_label}\"\n",
    "    if pred_label == true_label:\n",
    "        plt.title(title_text, fontsize=8, c=\"g\")\n",
    "    else:\n",
    "        plt.title(title_text, fontsize=8, c=\"r\")\n",
    "    "
   ]
  },
  {
   "cell_type": "markdown",
   "metadata": {},
   "source": [
    "I'd say its a fairly good model since its rare to encounter wrong predictions unless the image itself isn't descriptive enough"
   ]
  },
  {
   "cell_type": "markdown",
   "metadata": {},
   "source": []
  }
 ],
 "metadata": {
  "kernelspec": {
   "display_name": "Python 3",
   "language": "python",
   "name": "python3"
  },
  "language_info": {
   "codemirror_mode": {
    "name": "ipython",
    "version": 3
   },
   "file_extension": ".py",
   "mimetype": "text/x-python",
   "name": "python",
   "nbconvert_exporter": "python",
   "pygments_lexer": "ipython3",
   "version": "3.11.9"
  }
 },
 "nbformat": 4,
 "nbformat_minor": 2
}
